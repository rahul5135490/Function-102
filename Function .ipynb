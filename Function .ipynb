{
 "cells": [
  {
   "cell_type": "code",
   "execution_count": 1,
   "id": "35ad9056",
   "metadata": {},
   "outputs": [],
   "source": [
    "def welcome_home():\n",
    "    print(\"Hello\")\n",
    "    print(\"Welcome\")\n",
    "    print(\"Friend\")"
   ]
  },
  {
   "cell_type": "code",
   "execution_count": 2,
   "id": "59075e46",
   "metadata": {},
   "outputs": [
    {
     "name": "stdout",
     "output_type": "stream",
     "text": [
      "Hello\n",
      "Welcome\n",
      "Friend\n"
     ]
    }
   ],
   "source": [
    "welcome_home()"
   ]
  },
  {
   "cell_type": "code",
   "execution_count": 3,
   "id": "9a784421",
   "metadata": {},
   "outputs": [],
   "source": [
    "def welcome_you(name):\n",
    "    print(\"Welcome home {}\".format(name))"
   ]
  },
  {
   "cell_type": "code",
   "execution_count": 4,
   "id": "fee5ad90",
   "metadata": {},
   "outputs": [
    {
     "data": {
      "text/plain": [
       "<function __main__.welcome_you(name)>"
      ]
     },
     "execution_count": 4,
     "metadata": {},
     "output_type": "execute_result"
    }
   ],
   "source": [
    "welcome_you"
   ]
  },
  {
   "cell_type": "code",
   "execution_count": 6,
   "id": "4e90c2f4",
   "metadata": {},
   "outputs": [
    {
     "name": "stdout",
     "output_type": "stream",
     "text": [
      "Welcome home john\n"
     ]
    }
   ],
   "source": [
    "welcome_you(\"john\")"
   ]
  },
  {
   "cell_type": "code",
   "execution_count": 7,
   "id": "52bb4a3e",
   "metadata": {},
   "outputs": [
    {
     "ename": "TypeError",
     "evalue": "welcome_you() missing 1 required positional argument: 'name'",
     "output_type": "error",
     "traceback": [
      "\u001b[1;31m---------------------------------------------------------------------------\u001b[0m",
      "\u001b[1;31mTypeError\u001b[0m                                 Traceback (most recent call last)",
      "\u001b[1;32m~\\AppData\\Local\\Temp\\ipykernel_25972\\3111548243.py\u001b[0m in \u001b[0;36m<module>\u001b[1;34m\u001b[0m\n\u001b[1;32m----> 1\u001b[1;33m \u001b[0mwelcome_you\u001b[0m\u001b[1;33m(\u001b[0m\u001b[1;33m)\u001b[0m\u001b[1;33m\u001b[0m\u001b[1;33m\u001b[0m\u001b[0m\n\u001b[0m",
      "\u001b[1;31mTypeError\u001b[0m: welcome_you() missing 1 required positional argument: 'name'"
     ]
    }
   ],
   "source": [
    "welcome_you()"
   ]
  },
  {
   "cell_type": "code",
   "execution_count": 8,
   "id": "89316af9",
   "metadata": {},
   "outputs": [],
   "source": [
    "def welcome_you(name=\"Guest\"):\n",
    "    print(\"Welcome home {}\".format(name))"
   ]
  },
  {
   "cell_type": "code",
   "execution_count": 9,
   "id": "bbd2af42",
   "metadata": {},
   "outputs": [
    {
     "name": "stdout",
     "output_type": "stream",
     "text": [
      "Welcome home Guest\n"
     ]
    }
   ],
   "source": [
    "welcome_you()"
   ]
  },
  {
   "cell_type": "code",
   "execution_count": 10,
   "id": "dce08411",
   "metadata": {},
   "outputs": [
    {
     "name": "stdout",
     "output_type": "stream",
     "text": [
      "Welcome home john\n"
     ]
    }
   ],
   "source": [
    "welcome_you(\"john\")"
   ]
  },
  {
   "cell_type": "code",
   "execution_count": 11,
   "id": "bc15e051",
   "metadata": {},
   "outputs": [],
   "source": [
    "def add_num(x,y):\n",
    "    return x+y"
   ]
  },
  {
   "cell_type": "code",
   "execution_count": 12,
   "id": "0fb3e249",
   "metadata": {},
   "outputs": [
    {
     "data": {
      "text/plain": [
       "43"
      ]
     },
     "execution_count": 12,
     "metadata": {},
     "output_type": "execute_result"
    }
   ],
   "source": [
    "add_num(20,23)"
   ]
  },
  {
   "cell_type": "code",
   "execution_count": 13,
   "id": "b83d30a9",
   "metadata": {},
   "outputs": [
    {
     "data": {
      "text/plain": [
       "-1"
      ]
     },
     "execution_count": 13,
     "metadata": {},
     "output_type": "execute_result"
    }
   ],
   "source": [
    "add_num(20,23)-44"
   ]
  },
  {
   "cell_type": "code",
   "execution_count": 14,
   "id": "885dcdb1",
   "metadata": {},
   "outputs": [
    {
     "data": {
      "text/plain": [
       "1849"
      ]
     },
     "execution_count": 14,
     "metadata": {},
     "output_type": "execute_result"
    }
   ],
   "source": [
    "add_num(20,23)**2"
   ]
  },
  {
   "cell_type": "code",
   "execution_count": 15,
   "id": "e0e1b9e6",
   "metadata": {},
   "outputs": [],
   "source": [
    "def fancy_math(x,y,z):\n",
    "    return (x+y)/z"
   ]
  },
  {
   "cell_type": "code",
   "execution_count": 16,
   "id": "333372e9",
   "metadata": {},
   "outputs": [
    {
     "data": {
      "text/plain": [
       "10.0"
      ]
     },
     "execution_count": 16,
     "metadata": {},
     "output_type": "execute_result"
    }
   ],
   "source": [
    "fancy_math(23,27,5)"
   ]
  },
  {
   "cell_type": "code",
   "execution_count": 17,
   "id": "c737299a",
   "metadata": {},
   "outputs": [],
   "source": [
    "def num_check(number):\n",
    "    x=number % 2\n",
    "    if x==0:\n",
    "        print(\"x is even\")\n",
    "    else:\n",
    "        print(\"x is odd\")"
   ]
  },
  {
   "cell_type": "code",
   "execution_count": 18,
   "id": "427caa96",
   "metadata": {},
   "outputs": [
    {
     "name": "stdout",
     "output_type": "stream",
     "text": [
      "x is odd\n"
     ]
    }
   ],
   "source": [
    "num_check(23)"
   ]
  },
  {
   "cell_type": "code",
   "execution_count": null,
   "id": "a4de18ef",
   "metadata": {},
   "outputs": [],
   "source": []
  }
 ],
 "metadata": {
  "kernelspec": {
   "display_name": "Python 3 (ipykernel)",
   "language": "python",
   "name": "python3"
  },
  "language_info": {
   "codemirror_mode": {
    "name": "ipython",
    "version": 3
   },
   "file_extension": ".py",
   "mimetype": "text/x-python",
   "name": "python",
   "nbconvert_exporter": "python",
   "pygments_lexer": "ipython3",
   "version": "3.9.13"
  }
 },
 "nbformat": 4,
 "nbformat_minor": 5
}
